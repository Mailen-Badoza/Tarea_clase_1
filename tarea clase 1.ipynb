{
 "cells": [
  {
   "cell_type": "code",
   "execution_count": 11,
   "id": "233e9b26-0439-4686-8629-de895378d3cd",
   "metadata": {},
   "outputs": [
    {
     "name": "stdin",
     "output_type": "stream",
     "text": [
      "introduzca su nombre: mailen\n",
      "introduzca su edad: 26\n"
     ]
    },
    {
     "name": "stdout",
     "output_type": "stream",
     "text": [
      "Hola mailen tienes 26 años\n"
     ]
    }
   ],
   "source": [
    "#ejercicio 1\n",
    "nombre = input (\"introduzca su nombre:\")\n",
    "edad = int (input (\"introduzca su edad:\"))\n",
    "print (\"Hola\", nombre, \"tienes\", edad, \"años\")"
   ]
  },
  {
   "cell_type": "code",
   "execution_count": 24,
   "id": "fe43c7a3-f84e-4b98-8368-c2f5af27e2f5",
   "metadata": {},
   "outputs": [
    {
     "name": "stdin",
     "output_type": "stream",
     "text": [
      "introduzca numero:  7\n"
     ]
    },
    {
     "name": "stdout",
     "output_type": "stream",
     "text": [
      "el numero es positivo\n"
     ]
    }
   ],
   "source": [
    "#ejercicio 2\n",
    "numero = int (input (\"introduzca numero: \"))\n",
    "if numero >1:\n",
    "    print (\"el numero es positivo\")\n",
    "if numero < 1:\n",
    "    print (\"el numero es negativo\")"
   ]
  },
  {
   "cell_type": "code",
   "execution_count": 29,
   "id": "3584ee89-71b4-473e-873c-2613df1aedb5",
   "metadata": {},
   "outputs": [
    {
     "name": "stdin",
     "output_type": "stream",
     "text": [
      "introduzca un numero:  6\n",
      "introduzca otro numero:  8\n"
     ]
    },
    {
     "name": "stdout",
     "output_type": "stream",
     "text": [
      "6 es menor que 8\n"
     ]
    }
   ],
   "source": [
    "#ejercicio 3 \n",
    "numero_1 = int (input (\"introduzca un numero: \"))\n",
    "numero_2 = int (input (\"introduzca otro numero: \"))\n",
    "if numero_1 > numero_2:\n",
    "    print (numero_1, \"es mayor que\", numero_2)\n",
    "else:\n",
    "    print (numero_1, \"es menor que\", numero_2)\n"
   ]
  },
  {
   "cell_type": "code",
   "execution_count": 31,
   "id": "e55e0949-6c97-4f61-9e32-e45d7d9d13c9",
   "metadata": {},
   "outputs": [
    {
     "name": "stdin",
     "output_type": "stream",
     "text": [
      "introduzca su nota:  50\n"
     ]
    },
    {
     "name": "stdout",
     "output_type": "stream",
     "text": [
      "califacion: F\n"
     ]
    }
   ],
   "source": [
    "#ejercicio 4\n",
    "nota = int (input (\"introduzca su nota: \"))\n",
    "if nota >= 90 and nota <= 100:\n",
    "    print (\"calificacion: A\") \n",
    "elif nota >= 80 and nota <= 89: \n",
    "    print (\"calificacion: B\")\n",
    "elif nota >= 70 and nota <= 79: \n",
    "    print (\"calificacion: C\")\n",
    "elif nota >= 60 and nota <= 69:\n",
    "    print (\"calificacion: D\")\n",
    "else:\n",
    "    print (\"califacion: F\")\n",
    "    "
   ]
  },
  {
   "cell_type": "code",
   "execution_count": null,
   "id": "037c1de1-ce00-4174-9168-c839c9e26011",
   "metadata": {},
   "outputs": [],
   "source": [
    "#Array: o arreglo,es una estructura de datos que se utiliza para almacenar una colección de elementos del mismo tipo. \n",
    "\n",
    "#Ciclo iterativo: es estructura de control que permite ejecutar un bloque de código repetidamente hasta que se cumple una condición específica.\n"
   ]
  }
 ],
 "metadata": {
  "kernelspec": {
   "display_name": "Python 3 (ipykernel)",
   "language": "python",
   "name": "python3"
  },
  "language_info": {
   "codemirror_mode": {
    "name": "ipython",
    "version": 3
   },
   "file_extension": ".py",
   "mimetype": "text/x-python",
   "name": "python",
   "nbconvert_exporter": "python",
   "pygments_lexer": "ipython3",
   "version": "3.11.5"
  }
 },
 "nbformat": 4,
 "nbformat_minor": 5
}
